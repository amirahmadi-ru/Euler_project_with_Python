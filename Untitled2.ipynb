{
 "cells": [
  {
   "cell_type": "code",
   "execution_count": null,
   "id": "4d13b6d1",
   "metadata": {},
   "outputs": [],
   "source": [
    "# Fibonacci sequence whose values do not exceed four million, find the sum of the even-valued terms.\n",
    "def even_num(x):\n",
    "    if x % 2 == 0:\n",
    "        return True\n",
    "    else:\n",
    "        return False\n",
    "one = 1\n",
    "two = 2\n",
    "sum = 0\n",
    "while (one < 4*10**6):\n",
    "    print(\"My first number is :\", one)\n",
    "    if even_num(one):\n",
    "        print(\"It's a even number\")\n",
    "        sum = sum + one\n",
    "        print(\"-------------> My sum is : \", sum)\n",
    "    new = one + two\n",
    "    one = two\n",
    "    two = new\n",
    "print(sum)"
   ]
  }
 ],
 "metadata": {
  "kernelspec": {
   "display_name": "Python 3 (ipykernel)",
   "language": "python",
   "name": "python3"
  },
  "language_info": {
   "codemirror_mode": {
    "name": "ipython",
    "version": 3
   },
   "file_extension": ".py",
   "mimetype": "text/x-python",
   "name": "python",
   "nbconvert_exporter": "python",
   "pygments_lexer": "ipython3",
   "version": "3.9.7"
  }
 },
 "nbformat": 4,
 "nbformat_minor": 5
}

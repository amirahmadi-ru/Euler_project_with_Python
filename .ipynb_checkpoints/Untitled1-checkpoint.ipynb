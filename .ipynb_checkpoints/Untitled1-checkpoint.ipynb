{
 "cells": [
  {
   "cell_type": "code",
   "execution_count": null,
   "id": "5b869bdc",
   "metadata": {},
   "outputs": [],
   "source": [
    "def Coefficient3or5():\n",
    "    lst = []\n",
    "    sum_i = 0\n",
    "    for i in range(1,1000):\n",
    "        if i % 3 == 0 or i % 5 == 0:\n",
    "            lst.append(i)\n",
    "            sum_i = sum_i + i\n",
    "#             print(i, True)\n",
    "    print(\"The sum is\", sum_i)\n",
    "#     print(lst)\n",
    "Coefficient3or5()"
   ]
  }
 ],
 "metadata": {
  "kernelspec": {
   "display_name": "Python 3 (ipykernel)",
   "language": "python",
   "name": "python3"
  },
  "language_info": {
   "codemirror_mode": {
    "name": "ipython",
    "version": 3
   },
   "file_extension": ".py",
   "mimetype": "text/x-python",
   "name": "python",
   "nbconvert_exporter": "python",
   "pygments_lexer": "ipython3",
   "version": "3.10.4"
  }
 },
 "nbformat": 4,
 "nbformat_minor": 5
}

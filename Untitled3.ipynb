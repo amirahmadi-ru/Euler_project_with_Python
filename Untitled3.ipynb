{
 "cells": [
  {
   "cell_type": "code",
   "execution_count": null,
   "id": "81401861",
   "metadata": {},
   "outputs": [],
   "source": [
    "# largest prime factor of the number 600851475143\n",
    "def isprime(x):\n",
    "    if x>1:\n",
    "        for i in range(2,x):\n",
    "            if x % i == 0:\n",
    "                break\n",
    "        else:\n",
    "            return x\n",
    "num = int(input(\"Please Enter : \")) \n",
    "largest = 0\n",
    "for i in range(1,10000):\n",
    "    if (num % i == 0) & (isprime(i)!= None):\n",
    "        largest = i\n",
    "\n",
    "print(\"largest prime factor of the number\",num,\"is\",(largest))"
   ]
  }
 ],
 "metadata": {
  "kernelspec": {
   "display_name": "Python 3 (ipykernel)",
   "language": "python",
   "name": "python3"
  },
  "language_info": {
   "codemirror_mode": {
    "name": "ipython",
    "version": 3
   },
   "file_extension": ".py",
   "mimetype": "text/x-python",
   "name": "python",
   "nbconvert_exporter": "python",
   "pygments_lexer": "ipython3",
   "version": "3.9.7"
  }
 },
 "nbformat": 4,
 "nbformat_minor": 5
}

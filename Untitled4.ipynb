{
 "cells": [
  {
   "cell_type": "code",
   "execution_count": null,
   "id": "48c46f73",
   "metadata": {},
   "outputs": [],
   "source": [
    "def sumsquares_1():\n",
    "    sum = 0\n",
    "    for a in range(1,101):\n",
    "        x = a**2\n",
    "        sum = sum + x\n",
    "    return sum\n",
    "    \n",
    "def sumsquares_2():\n",
    "    sum = 0\n",
    "    for a in range(1,101):\n",
    "        sum = a + sum \n",
    "    return sum**2"
   ]
  },
  {
   "cell_type": "code",
   "execution_count": null,
   "id": "051cbd94",
   "metadata": {},
   "outputs": [],
   "source": [
    "print(sumsquares_2() - sumsquares_1())"
   ]
  }
 ],
 "metadata": {
  "kernelspec": {
   "display_name": "Python 3 (ipykernel)",
   "language": "python",
   "name": "python3"
  },
  "language_info": {
   "codemirror_mode": {
    "name": "ipython",
    "version": 3
   },
   "file_extension": ".py",
   "mimetype": "text/x-python",
   "name": "python",
   "nbconvert_exporter": "python",
   "pygments_lexer": "ipython3",
   "version": "3.9.7"
  }
 },
 "nbformat": 4,
 "nbformat_minor": 5
}
